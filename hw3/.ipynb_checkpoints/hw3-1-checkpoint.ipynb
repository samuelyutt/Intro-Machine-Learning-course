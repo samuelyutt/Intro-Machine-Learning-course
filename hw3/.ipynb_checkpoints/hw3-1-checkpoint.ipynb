{
 "cells": [
  {
   "cell_type": "code",
   "execution_count": 718,
   "metadata": {},
   "outputs": [],
   "source": [
    "import numpy as np\n",
    "import pandas as pd\n",
    "import seaborn as sns\n",
    "from scipy import stats\n",
    "import csv\n",
    "import math\n",
    "import random\n",
    "import statistics\n",
    "import matplotlib.pyplot as plt\n",
    "\n",
    "with open('HW3_data/linear_data.txt', newline='') as csvfile:\n",
    "    datas = list(csv.reader(csvfile))"
   ]
  },
  {
   "cell_type": "code",
   "execution_count": 719,
   "metadata": {},
   "outputs": [],
   "source": [
    "#### Settings ####\n",
    "n = 2\n",
    "savefig = 0"
   ]
  },
  {
   "cell_type": "code",
   "execution_count": 720,
   "metadata": {},
   "outputs": [],
   "source": [
    "A = []\n",
    "b = []\n",
    "for data in datas:\n",
    "    Arow = []\n",
    "    Arow.append(1)\n",
    "    \n",
    "    num = float(data[0])\n",
    "    for i in range(1, n):\n",
    "        Arow.append(num)\n",
    "        num *= num\n",
    "    \n",
    "    A.append(Arow)\n",
    "    b.append( float(data[1]))"
   ]
  },
  {
   "cell_type": "code",
   "execution_count": 721,
   "metadata": {},
   "outputs": [],
   "source": [
    "AT = []\n",
    "ATrow = []\n",
    "for i in range( len(A[0]) ):\n",
    "    ATrow.append([])\n",
    "\n",
    "for Arow in A:\n",
    "    for i in range( len(A[0]) ):\n",
    "        ATrow[i].append(Arow[i])\n",
    "\n",
    "for i in range( len(A[0]) ):        \n",
    "    AT.append(ATrow[i])"
   ]
  },
  {
   "cell_type": "code",
   "execution_count": 722,
   "metadata": {},
   "outputs": [],
   "source": [
    "ATA = []\n",
    "\n",
    "for row in range( len(A[0]) ):\n",
    "    ATArow = []\n",
    "    for col in range( len(A[0]) ):\n",
    "        num = 0\n",
    "        for j in range( len(AT[0]) ):\n",
    "            num += ( AT[row][j] * A[j][col] )\n",
    "        ATArow.append(num)\n",
    "    ATA.append(ATArow)"
   ]
  },
  {
   "cell_type": "code",
   "execution_count": 723,
   "metadata": {},
   "outputs": [],
   "source": [
    "ATAinverse = []\n",
    "tempATA = []\n",
    "\n",
    "for i in range( len(ATA) ):\n",
    "    ATAinverserow = [];\n",
    "    tempATArow = [];\n",
    "    for j in range( len(ATA) ):\n",
    "        ATAinverserow.append( int(i==j) )\n",
    "        tempATArow.append( ATA[i][j] )\n",
    "    ATAinverse.append(ATAinverserow)\n",
    "    tempATA.append(tempATArow)\n",
    "\n",
    "\n",
    "# for i in range( len(tempATA) ):\n",
    "#     print(tempATA[i])\n",
    "# for i in range( len(ATAinverse) ):\n",
    "#     print(ATAinverse[i])\n",
    "# print()\n",
    "\n",
    "    \n",
    "for i in range( len(tempATA) ):\n",
    "    dnmt = tempATA[i][i]\n",
    "    for j in range( len(tempATA) ):\n",
    "        tempATA[i][j] /= dnmt\n",
    "        ATAinverse[i][j] /= dnmt\n",
    "    \n",
    "    for k in range(i+1, len(tempATA)):\n",
    "        ratio = -tempATA[k][i]\n",
    "        for j in range( len(tempATA) ):\n",
    "            tempATA[k][j] += ( tempATA[i][j] * ratio )\n",
    "            ATAinverse[k][j] += ( ATAinverse[i][j] * ratio )\n",
    "        \n",
    "# for i in range( len(tempATA) ):\n",
    "#     print(tempATA[i])\n",
    "# for i in range( len(ATAinverse) ):\n",
    "#     print(ATAinverse[i])\n",
    "# print()\n",
    "\n",
    "for i in range( len(tempATA)-1, -1, -1 ):\n",
    "    dnmt = tempATA[i][i]\n",
    "    for j in range( len(tempATA)-1, -1, -1  ):\n",
    "        tempATA[i][j] /= dnmt\n",
    "        ATAinverse[i][j] /= dnmt\n",
    "        \n",
    "    for k in range(i-1, -1, -1):\n",
    "        ratio = -tempATA[k][i]\n",
    "        for j in range( len(tempATA)-1, -1, -1 ):\n",
    "            tempATA[k][j] += ( tempATA[i][j] * ratio )\n",
    "            ATAinverse[k][j] += ( ATAinverse[i][j] * ratio )\n",
    "        \n",
    "# for i in range( len(tempATA) ):\n",
    "#     print(tempATA[i])\n",
    "# for i in range( len(ATAinverse) ):\n",
    "#     print(ATAinverse[i])\n",
    "# print()"
   ]
  },
  {
   "cell_type": "code",
   "execution_count": 724,
   "metadata": {},
   "outputs": [],
   "source": [
    "ATAinverseAT = []\n",
    "\n",
    "for row in range( len(ATAinverse) ):\n",
    "    ATAinverseATrow = []\n",
    "    for col in range( len(AT[0]) ):\n",
    "        num = 0\n",
    "        for j in range( len(ATAinverse[0]) ):\n",
    "            num += ( ATAinverse[row][j] * AT[j][col] )\n",
    "        ATAinverseATrow.append(num)\n",
    "    ATAinverseAT.append(ATAinverseATrow)"
   ]
  },
  {
   "cell_type": "code",
   "execution_count": 725,
   "metadata": {},
   "outputs": [],
   "source": [
    "w = []\n",
    "\n",
    "for row in range( len(ATAinverseAT) ):\n",
    "    num = 0\n",
    "    for j in range( len(ATAinverseAT[0]) ):\n",
    "        num += ( ATAinverseAT[row][j] * b[j] )\n",
    "    w.append(num)"
   ]
  },
  {
   "cell_type": "code",
   "execution_count": 726,
   "metadata": {},
   "outputs": [
    {
     "name": "stdout",
     "output_type": "stream",
     "text": [
      "Fitting line: 2.129097066511054X^1 + -40.27912612124099\n",
      "Total error: 63987.84575778298\n"
     ]
    },
    {
     "data": {
      "image/png": "[encoded data removed]",
      "text/plain": [
       "<Figure size 432x288 with 1 Axes>"
      ]
     },
     "metadata": {
      "needs_background": "light"
     },
     "output_type": "display_data"
    }
   ],
   "source": [
    "print(\"Fitting line: \", end = '')\n",
    "for i in range(n-1, -1, -1):\n",
    "    print(w[i], end = '')\n",
    "    if i > 0:\n",
    "        print(\"X^\", end = '')\n",
    "        print(i, end = '')\n",
    "        print(\" + \", end = '')\n",
    "print()\n",
    "\n",
    "totalerr = 0;\n",
    "for data in datas:\n",
    "    pdctvalue = 0;\n",
    "    tempX = 1\n",
    "    for i in range(n):\n",
    "        pdctvalue += w[i] * tempX\n",
    "        tempX *= float(data[0])\n",
    "    totalerr += ( pdctvalue - float(data[1]) ) * ( pdctvalue - float(data[1]) )\n",
    "print(\"Total error:\", totalerr)\n",
    "\n",
    "xs = []\n",
    "ys = []\n",
    "for row in datas:\n",
    "    xs.append(float(row[0]))\n",
    "    ys.append(float(row[1]))\n",
    "plt.plot(xs, ys, 'ro')\n",
    "\n",
    "x = np.linspace(-5, 5, 256, endpoint = True)\n",
    "y = 0;\n",
    "tempX = 1\n",
    "for i in range(n):\n",
    "    y += w[i] * tempX\n",
    "    tempX *= x\n",
    "plt.plot(x, y)\n",
    "\n",
    "if savefig:\n",
    "    plt.savefig(\"Outputs/1_n=\"+str(n)+\".png\")\n",
    "plt.show()"
   ]
  }
 ],
 "metadata": {
  "kernelspec": {
   "display_name": "Python 3",
   "language": "python",
   "name": "python3"
  },
  "language_info": {
   "codemirror_mode": {
    "name": "ipython",
    "version": 3
   },
   "file_extension": ".py",
   "mimetype": "text/x-python",
   "name": "python",
   "nbconvert_exporter": "python",
   "pygments_lexer": "ipython3",
   "version": "3.7.4"
  }
 },
 "nbformat": 4,
 "nbformat_minor": 4
}
