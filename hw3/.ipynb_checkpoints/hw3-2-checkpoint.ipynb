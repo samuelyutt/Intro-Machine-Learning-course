{
 "cells": [
  {
   "cell_type": "code",
   "execution_count": 892,
   "metadata": {},
   "outputs": [],
   "source": [
    "import numpy as np\n",
    "import pandas as pd\n",
    "import seaborn as sns\n",
    "from scipy import stats\n",
    "import csv\n",
    "import math\n",
    "import random\n",
    "import statistics\n",
    "import matplotlib.pyplot as plt\n",
    "\n",
    "with open('HW3_data/Logistic_data1-1.txt', newline='') as csvfile:\n",
    "    datas11 = list(csv.reader(csvfile))\n",
    "    \n",
    "with open('HW3_data/Logistic_data1-2.txt', newline='') as csvfile:\n",
    "    datas12 = list(csv.reader(csvfile))\n",
    "    \n",
    "with open('HW3_data/Logistic_data2-1.txt', newline='') as csvfile:\n",
    "    datas21 = list(csv.reader(csvfile))\n",
    "    \n",
    "with open('HW3_data/Logistic_data2-2.txt', newline='') as csvfile:\n",
    "    datas22 = list(csv.reader(csvfile))"
   ]
  },
  {
   "cell_type": "code",
   "execution_count": 893,
   "metadata": {},
   "outputs": [],
   "source": [
    "#### Settings ####\n",
    "# Set method\n",
    "# 1: L2-norm\n",
    "# 2: Cross Entropy\n",
    "method = 1\n",
    "\n",
    "savefig = 0\n",
    "\n",
    "weight_traing_count_1 = 100\n",
    "weight_traing_count_2 = 1000\n",
    "\n",
    "alpha = 0.25\n",
    "\n",
    "#### Functions ####\n",
    "def innerprdt(a, b):\n",
    "    prdt = 0;\n",
    "    for i in range( len(a) ):\n",
    "        prdt += (a[i] * b[i])\n",
    "    return prdt\n",
    "\n",
    "def sigmoid(wt, x):\n",
    "    try:\n",
    "        num = math.exp( -innerprdt(wt, x) )\n",
    "    except OverflowError:\n",
    "        num = float('inf')\n",
    "    return 1/(1+num)"
   ]
  },
  {
   "cell_type": "code",
   "execution_count": 894,
   "metadata": {},
   "outputs": [
    {
     "name": "stdout",
     "output_type": "stream",
     "text": [
      "Original data\n"
     ]
    },
    {
     "data": {
      "image/png": "[encoded data removed]",
      "text/plain": [
       "<Figure size 432x288 with 1 Axes>"
      ]
     },
     "metadata": {
      "needs_background": "light"
     },
     "output_type": "display_data"
    }
   ],
   "source": [
    "print(\"Original data\")\n",
    "xs = []\n",
    "ys = []\n",
    "for row in datas11:\n",
    "    xs.append(float(row[0]))\n",
    "    ys.append(float(row[1]))\n",
    "plt.plot(xs, ys, 'ro')\n",
    "\n",
    "xs = []\n",
    "ys = []\n",
    "for row in datas12:\n",
    "    xs.append(float(row[0]))\n",
    "    ys.append(float(row[1]))\n",
    "plt.plot(xs, ys, 'bo')\n",
    "if savefig:\n",
    "    plt.savefig(\"Outputs/2_input1.png\")\n",
    "plt.show()"
   ]
  },
  {
   "cell_type": "code",
   "execution_count": 895,
   "metadata": {},
   "outputs": [],
   "source": [
    "w = []\n",
    "for i in range( len(datas11[0])+1 ):\n",
    "    w.append(0)"
   ]
  },
  {
   "cell_type": "code",
   "execution_count": 896,
   "metadata": {},
   "outputs": [],
   "source": [
    "for c in range(weight_traing_count_1):\n",
    "    vxs = []\n",
    "    for data in datas11:\n",
    "        vx = [1]\n",
    "        vx.append(float(data[0]))\n",
    "        vx.append(float(data[1]))\n",
    "        vxs.append(vx)\n",
    "\n",
    "    for i in range( len(vxs) ):\n",
    "        wp = []\n",
    "        for j in range( len(vxs[i]) ):\n",
    "            wp.append(0)\n",
    "        for j in range( len(vxs[i]) ):\n",
    "            if method == 1:\n",
    "                wp[j] += (0 - sigmoid(w, vxs[i])) * sigmoid(w, vxs[i]) * (1 - sigmoid(w, vxs[i])) * vxs[i][j]\n",
    "            elif method == 2:\n",
    "                wp[j] += (sigmoid(w, vxs[i]) - 0) * vxs[i][j]\n",
    "        if method == 2:\n",
    "            for j in range( len(vxs[i]) ):\n",
    "                wp[j] /= -(len(datas11) + len(datas12))\n",
    "        for j in range( len(wp) ):\n",
    "            w[j] += alpha * wp[j]\n",
    "\n",
    "    vxs = []\n",
    "    for data in datas12:\n",
    "        vx = [1]\n",
    "        vx.append(float(data[0]))\n",
    "        vx.append(float(data[1]))\n",
    "        vxs.append(vx)\n",
    "\n",
    "    for i in range( len(vxs) ):\n",
    "        wp = []\n",
    "        for j in range( len(vxs[i]) ):\n",
    "            wp.append(0)\n",
    "        for j in range( len(vxs[i]) ):\n",
    "            if method == 1:\n",
    "                wp[j] += (1 - sigmoid(w, vxs[i])) * sigmoid(w, vxs[i]) * (1 - sigmoid(w, vxs[i])) * vxs[i][j]\n",
    "            elif method == 2:\n",
    "                wp[j] += (sigmoid(w, vxs[i]) - 1) * vxs[i][j]\n",
    "        if method == 2:\n",
    "            for j in range( len(vxs[i]) ):\n",
    "                wp[j] /= -(len(datas11) + len(datas12))\n",
    "        for j in range( len(wp) ):\n",
    "            w[j] += alpha * wp[j]\n",
    "    "
   ]
  },
  {
   "cell_type": "code",
   "execution_count": 897,
   "metadata": {},
   "outputs": [
    {
     "data": {
      "image/png": "[encoded data removed]",
      "text/plain": [
       "<Figure size 432x288 with 1 Axes>"
      ]
     },
     "metadata": {
      "needs_background": "light"
     },
     "output_type": "display_data"
    },
    {
     "name": "stdout",
     "output_type": "stream",
     "text": [
      "--------------------------------------------------\n",
      "Method               1\n",
      "Weight               [-5.135898670937125, 0.568115314222881, 0.444448019171329]\n",
      "--------------------------------------------------\n",
      "Confusion matrix\n",
      "                     Is cluster 1        Is cluster 2\n",
      "Predict cluster 1    50                   0\n",
      "Predict cluster 2    0                   50\n",
      "--------------------------------------------------\n",
      "Precision            1.0\n",
      "Recall               1.0\n"
     ]
    }
   ],
   "source": [
    "xs1 = []\n",
    "ys1 = []\n",
    "xs0 = []\n",
    "ys0 = []\n",
    "tp = 0\n",
    "tn = 0\n",
    "fp = 0\n",
    "fn = 0\n",
    "\n",
    "for data in datas11:\n",
    "    vx = [1]\n",
    "    vx.append(float(data[0]))\n",
    "    vx.append(float(data[1]))\n",
    "    \n",
    "    if sigmoid(w, vx) < 0.5:\n",
    "        xs0.append(vx[1])\n",
    "        ys0.append(vx[2])\n",
    "        tn += 1\n",
    "    else:\n",
    "        xs1.append(vx[1])\n",
    "        ys1.append(vx[2])\n",
    "        fp += 1\n",
    "\n",
    "for data in datas12:\n",
    "    vx = [1]\n",
    "    vx.append(float(data[0]))\n",
    "    vx.append(float(data[1]))\n",
    "    \n",
    "    if sigmoid(w, vx) < 0.5:\n",
    "        xs0.append(vx[1])\n",
    "        ys0.append(vx[2])\n",
    "        fn += 1\n",
    "    else:\n",
    "        xs1.append(vx[1])\n",
    "        ys1.append(vx[2])\n",
    "        tp += 1\n",
    "\n",
    "\n",
    "plt.plot(xs0, ys0, 'ro')\n",
    "plt.plot(xs1, ys1, 'bo')\n",
    "if savefig:\n",
    "    plt.savefig(\"Outputs/2_output1_method=\"+str(method)+\".png\")\n",
    "plt.show()\n",
    "\n",
    "print(\"--------------------------------------------------\")\n",
    "print(\"Method              \", method)\n",
    "print(\"Weight              \", w)\n",
    "print(\"--------------------------------------------------\")           \n",
    "print(\"Confusion matrix\")\n",
    "print(\"                     Is cluster 1        Is cluster 2\")\n",
    "print(\"Predict cluster 1   \", tn, \"                 \", fn)\n",
    "print(\"Predict cluster 2   \", fp, \"                 \", tp)\n",
    "print(\"--------------------------------------------------\")\n",
    "print(\"Precision           \", (tp) / (tp+fp))\n",
    "print(\"Recall              \", (tp) / (tp+fn))"
   ]
  },
  {
   "cell_type": "code",
   "execution_count": 898,
   "metadata": {},
   "outputs": [
    {
     "name": "stdout",
     "output_type": "stream",
     "text": [
      "Original data\n"
     ]
    },
    {
     "data": {
      "image/png": "[encoded data removed]",
      "text/plain": [
       "<Figure size 432x288 with 1 Axes>"
      ]
     },
     "metadata": {
      "needs_background": "light"
     },
     "output_type": "display_data"
    }
   ],
   "source": [
    "print(\"Original data\")\n",
    "xs = []\n",
    "ys = []\n",
    "for row in datas21:\n",
    "    xs.append(float(row[0]))\n",
    "    ys.append(float(row[1]))\n",
    "plt.plot(xs, ys, 'ro')\n",
    "\n",
    "xs = []\n",
    "ys = []\n",
    "for row in datas22:\n",
    "    xs.append(float(row[0]))\n",
    "    ys.append(float(row[1]))\n",
    "plt.plot(xs, ys, 'bo')\n",
    "if savefig:\n",
    "    plt.savefig(\"Outputs/2_input2.png\")\n",
    "plt.show()"
   ]
  },
  {
   "cell_type": "code",
   "execution_count": 899,
   "metadata": {},
   "outputs": [],
   "source": [
    "w = []\n",
    "for i in range( len(datas21[0])+1 ):\n",
    "    w.append(0)"
   ]
  },
  {
   "cell_type": "code",
   "execution_count": 900,
   "metadata": {},
   "outputs": [],
   "source": [
    "for c in range(weight_traing_count_1):\n",
    "    vxs = []\n",
    "    for data in datas21:\n",
    "        vx = [1]\n",
    "        vx.append(float(data[0]))\n",
    "        vx.append(float(data[1]))\n",
    "        vxs.append(vx)\n",
    "\n",
    "    for i in range( len(vxs) ):\n",
    "        wp = []\n",
    "        for j in range( len(vxs[i]) ):\n",
    "            wp.append(0)\n",
    "        for j in range( len(vxs[i]) ):\n",
    "            if method == 1:\n",
    "                wp[j] += (0 - sigmoid(w, vxs[i])) * sigmoid(w, vxs[i]) * (1 - sigmoid(w, vxs[i])) * vxs[i][j]\n",
    "            elif method == 2:\n",
    "                wp[j] += (sigmoid(w, vxs[i]) - 0) * vxs[i][j]\n",
    "        if method == 2:\n",
    "            for j in range( len(vxs[i]) ):\n",
    "                wp[j] /= -(len(datas21) + len(datas22))\n",
    "        for j in range( len(wp) ):\n",
    "            w[j] += alpha * wp[j]\n",
    "\n",
    "    vxs = []\n",
    "    for data in datas22:\n",
    "        vx = [1]\n",
    "        vx.append(float(data[0]))\n",
    "        vx.append(float(data[1]))\n",
    "        vxs.append(vx)\n",
    "\n",
    "    for i in range( len(vxs) ):\n",
    "        wp = []\n",
    "        for j in range( len(vxs[i]) ):\n",
    "            wp.append(0)\n",
    "        for j in range( len(vxs[i]) ):\n",
    "            if method == 1:\n",
    "                wp[j] += (1 - sigmoid(w, vxs[i])) * sigmoid(w, vxs[i]) * (1 - sigmoid(w, vxs[i])) * vxs[i][j]\n",
    "            elif method == 2:\n",
    "                wp[j] += (sigmoid(w, vxs[i]) - 1) * vxs[i][j]\n",
    "        if method == 2:\n",
    "            for j in range( len(vxs[i]) ):\n",
    "                wp[j] /= -(len(datas21) + len(datas22))\n",
    "        for j in range( len(wp) ):\n",
    "            w[j] += alpha * wp[j]\n",
    "    "
   ]
  },
  {
   "cell_type": "code",
   "execution_count": 901,
   "metadata": {},
   "outputs": [
    {
     "data": {
      "image/png": "[encoded data removed]",
      "text/plain": [
       "<Figure size 432x288 with 1 Axes>"
      ]
     },
     "metadata": {
      "needs_background": "light"
     },
     "output_type": "display_data"
    },
    {
     "name": "stdout",
     "output_type": "stream",
     "text": [
      "--------------------------------------------------\n",
      "Method               1\n",
      "Weight               [-4.248605295738713, 1.2062111170728038, 1.5989365819856387]\n",
      "--------------------------------------------------\n",
      "Confusion matrix\n",
      "                     Is cluster 1         Is cluster 2\n",
      "Predict cluster 1    37                   8\n",
      "Predict cluster 2    13                   42\n",
      "--------------------------------------------------\n",
      "Precision            0.7636363636363637\n",
      "Recall               0.84\n"
     ]
    }
   ],
   "source": [
    "xs1 = []\n",
    "ys1 = []\n",
    "xs0 = []\n",
    "ys0 = []\n",
    "tp = 0\n",
    "tn = 0\n",
    "fp = 0\n",
    "fn = 0\n",
    "\n",
    "for data in datas21:\n",
    "    vx = [1]\n",
    "    vx.append(float(data[0]))\n",
    "    vx.append(float(data[1]))\n",
    "    \n",
    "    if sigmoid(w, vx) < 0.5:\n",
    "        xs0.append(vx[1])\n",
    "        ys0.append(vx[2])\n",
    "        tn += 1\n",
    "    else:\n",
    "        xs1.append(vx[1])\n",
    "        ys1.append(vx[2])\n",
    "        fp += 1\n",
    "\n",
    "for data in datas22:\n",
    "    vx = [1]\n",
    "    vx.append(float(data[0]))\n",
    "    vx.append(float(data[1]))\n",
    "    \n",
    "    if sigmoid(w, vx) < 0.5:\n",
    "        xs0.append(vx[1])\n",
    "        ys0.append(vx[2])\n",
    "        fn += 1\n",
    "    else:\n",
    "        xs1.append(vx[1])\n",
    "        ys1.append(vx[2])\n",
    "        tp += 1\n",
    "\n",
    "\n",
    "plt.plot(xs0, ys0, 'ro')\n",
    "plt.plot(xs1, ys1, 'bo')\n",
    "if savefig:\n",
    "    plt.savefig(\"Outputs/2_output2_method=\"+str(method)+\".png\")\n",
    "plt.show()\n",
    "\n",
    "print(\"--------------------------------------------------\")\n",
    "print(\"Method              \", method)\n",
    "print(\"Weight              \", w)\n",
    "print(\"--------------------------------------------------\")           \n",
    "print(\"Confusion matrix\")\n",
    "print(\"                     Is cluster 1         Is cluster 2\")\n",
    "print(\"Predict cluster 1   \", tn, \"                 \", fn)\n",
    "print(\"Predict cluster 2   \", fp, \"                 \", tp)\n",
    "print(\"--------------------------------------------------\")\n",
    "print(\"Precision           \", (tp) / (tp+fp))\n",
    "print(\"Recall              \", (tp) / (tp+fn))"
   ]
  }
 ],
 "metadata": {
  "kernelspec": {
   "display_name": "Python 3",
   "language": "python",
   "name": "python3"
  },
  "language_info": {
   "codemirror_mode": {
    "name": "ipython",
    "version": 3
   },
   "file_extension": ".py",
   "mimetype": "text/x-python",
   "name": "python",
   "nbconvert_exporter": "python",
   "pygments_lexer": "ipython3",
   "version": "3.7.4"
  }
 },
 "nbformat": 4,
 "nbformat_minor": 4
}
